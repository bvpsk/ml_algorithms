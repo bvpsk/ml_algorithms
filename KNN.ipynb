{
 "cells": [
  {
   "cell_type": "code",
   "execution_count": 10,
   "metadata": {},
   "outputs": [],
   "source": [
    "# Import necessary packages\n",
    "import numpy as np\n",
    "import pandas as pd\n",
    "import matplotlib.pyplot as plt\n",
    "%matplotlib inline\n",
    "from sklearn.preprocessing import LabelEncoder\n",
    "from sklearn.model_selection import train_test_split\n",
    "from sklearn.metrics import accuracy_score, classification_report, confusion_matrix"
   ]
  },
  {
   "cell_type": "code",
   "execution_count": 5,
   "metadata": {},
   "outputs": [
    {
     "data": {
      "text/html": [
       "<div>\n",
       "<style scoped>\n",
       "    .dataframe tbody tr th:only-of-type {\n",
       "        vertical-align: middle;\n",
       "    }\n",
       "\n",
       "    .dataframe tbody tr th {\n",
       "        vertical-align: top;\n",
       "    }\n",
       "\n",
       "    .dataframe thead th {\n",
       "        text-align: right;\n",
       "    }\n",
       "</style>\n",
       "<table border=\"1\" class=\"dataframe\">\n",
       "  <thead>\n",
       "    <tr style=\"text-align: right;\">\n",
       "      <th></th>\n",
       "      <th>Type 1</th>\n",
       "      <th>Type 2</th>\n",
       "      <th>Total</th>\n",
       "      <th>HP</th>\n",
       "      <th>Attack</th>\n",
       "      <th>Defense</th>\n",
       "      <th>Sp. Atk</th>\n",
       "      <th>Sp. Def</th>\n",
       "      <th>Speed</th>\n",
       "      <th>Generation</th>\n",
       "      <th>Legendary</th>\n",
       "    </tr>\n",
       "  </thead>\n",
       "  <tbody>\n",
       "    <tr>\n",
       "      <td>0</td>\n",
       "      <td>9</td>\n",
       "      <td>14</td>\n",
       "      <td>318</td>\n",
       "      <td>45</td>\n",
       "      <td>49</td>\n",
       "      <td>49</td>\n",
       "      <td>65</td>\n",
       "      <td>65</td>\n",
       "      <td>45</td>\n",
       "      <td>0</td>\n",
       "      <td>0</td>\n",
       "    </tr>\n",
       "    <tr>\n",
       "      <td>1</td>\n",
       "      <td>9</td>\n",
       "      <td>14</td>\n",
       "      <td>405</td>\n",
       "      <td>60</td>\n",
       "      <td>62</td>\n",
       "      <td>63</td>\n",
       "      <td>80</td>\n",
       "      <td>80</td>\n",
       "      <td>60</td>\n",
       "      <td>0</td>\n",
       "      <td>0</td>\n",
       "    </tr>\n",
       "    <tr>\n",
       "      <td>2</td>\n",
       "      <td>9</td>\n",
       "      <td>14</td>\n",
       "      <td>525</td>\n",
       "      <td>80</td>\n",
       "      <td>82</td>\n",
       "      <td>83</td>\n",
       "      <td>100</td>\n",
       "      <td>100</td>\n",
       "      <td>80</td>\n",
       "      <td>0</td>\n",
       "      <td>0</td>\n",
       "    </tr>\n",
       "    <tr>\n",
       "      <td>3</td>\n",
       "      <td>9</td>\n",
       "      <td>14</td>\n",
       "      <td>625</td>\n",
       "      <td>80</td>\n",
       "      <td>100</td>\n",
       "      <td>123</td>\n",
       "      <td>122</td>\n",
       "      <td>120</td>\n",
       "      <td>80</td>\n",
       "      <td>0</td>\n",
       "      <td>0</td>\n",
       "    </tr>\n",
       "    <tr>\n",
       "      <td>4</td>\n",
       "      <td>6</td>\n",
       "      <td>0</td>\n",
       "      <td>309</td>\n",
       "      <td>39</td>\n",
       "      <td>52</td>\n",
       "      <td>43</td>\n",
       "      <td>60</td>\n",
       "      <td>50</td>\n",
       "      <td>65</td>\n",
       "      <td>0</td>\n",
       "      <td>0</td>\n",
       "    </tr>\n",
       "  </tbody>\n",
       "</table>\n",
       "</div>"
      ],
      "text/plain": [
       "   Type 1  Type 2  Total  HP  Attack  Defense  Sp. Atk  Sp. Def  Speed  \\\n",
       "0       9      14    318  45      49       49       65       65     45   \n",
       "1       9      14    405  60      62       63       80       80     60   \n",
       "2       9      14    525  80      82       83      100      100     80   \n",
       "3       9      14    625  80     100      123      122      120     80   \n",
       "4       6       0    309  39      52       43       60       50     65   \n",
       "\n",
       "   Generation  Legendary  \n",
       "0           0          0  \n",
       "1           0          0  \n",
       "2           0          0  \n",
       "3           0          0  \n",
       "4           0          0  "
      ]
     },
     "execution_count": 5,
     "metadata": {},
     "output_type": "execute_result"
    }
   ],
   "source": [
    "# Read Dataset\n",
    "df = pd.read_csv(\"datasets/Pokemon.csv\")\n",
    "df = df.drop([\"#\", \"Name\"], axis = 1)\n",
    "df = df.fillna(\" \")\n",
    "\n",
    "# For every Non-numeric column, convert it into a numeric column using sklearn's LabelEncoder\n",
    "type1_encoder = LabelEncoder()\n",
    "type1_encoder.fit(df['Type 1'])\n",
    "df['Type 1'] = type1_encoder.transform(df['Type 1'])\n",
    "\n",
    "type2_encoder = LabelEncoder()\n",
    "type2_encoder.fit(df['Type 2'])\n",
    "df['Type 2'] = type2_encoder.transform(df['Type 2'])\n",
    "\n",
    "generation_encoder = LabelEncoder()\n",
    "generation_encoder.fit(df['Generation'])\n",
    "df['Generation'] = generation_encoder.transform(df['Generation'])\n",
    "\n",
    "legendary_encoder = LabelEncoder()\n",
    "legendary_encoder.fit(df['Legendary'])\n",
    "df['Legendary'] = legendary_encoder.transform(df['Legendary'])\n",
    "\n",
    "# Look the preprocessed dataset\n",
    "df.head()"
   ]
  },
  {
   "cell_type": "code",
   "execution_count": 6,
   "metadata": {},
   "outputs": [],
   "source": [
    "# Extract Input(X) and Output(y) data\n",
    "X = df.values[:, :-1]\n",
    "y = df.values[:, -1]\n",
    "# Split Data for training and testing\n",
    "X_train, X_test, y_train, y_test = train_test_split(X, y, test_size=0.35)"
   ]
  },
  {
   "cell_type": "code",
   "execution_count": 7,
   "metadata": {},
   "outputs": [],
   "source": [
    "# Define a function to calculate distance between datapoints.\n",
    "def distance(a, b):\n",
    "    dis = 0\n",
    "    for i in range(len(a)):\n",
    "        dis += (b[i] - a[i])**2\n",
    "    return np.sqrt(dis)"
   ]
  },
  {
   "cell_type": "code",
   "execution_count": 8,
   "metadata": {},
   "outputs": [],
   "source": [
    "y_pred = [] # Array to store predicted data\n",
    "k = 3 # set the value of k here\n",
    "for test_point in X_test: #Iterate through every test point\n",
    "    neighbors = []\n",
    "    for (Xt, yt) in zip(X_train, y_train): # find distance between testpoint with every training data point\n",
    "        neighbors.append([distance(Xt, test_point), yt])\n",
    "    neighbors = sorted(neighbors, key = lambda x : x[0]) # sort the neighbors in ascending order based on distance\n",
    "    neighbors_count = [0, 0] # set an array to count num occurrences of different classes.\n",
    "    for i in range(k):\n",
    "        neighbors_count[neighbors[i][1]] += 1 # for first k occurrences in sorted neighbors, count individual classes\n",
    "    y_pred.append(np.argmax(neighbors_count)) # The class with highest count(votes) is predicted as output\n",
    "    \n",
    "    "
   ]
  },
  {
   "cell_type": "code",
   "execution_count": 9,
   "metadata": {},
   "outputs": [
    {
     "name": "stdout",
     "output_type": "stream",
     "text": [
      "KNN Accuracy : 0.94\n"
     ]
    }
   ],
   "source": [
    "# Print the accuracy of our model\n",
    "print(f'KNN Accuracy : {accuracy_score(y_test, y_pred):.2f}')"
   ]
  },
  {
   "cell_type": "code",
   "execution_count": 16,
   "metadata": {},
   "outputs": [
    {
     "name": "stdout",
     "output_type": "stream",
     "text": [
      "sklearn's KNN Accuracy : 0.94\n"
     ]
    }
   ],
   "source": [
    "from sklearn.neighbors import KNeighborsClassifier\n",
    "knn_classifier = KNeighborsClassifier(n_neighbors=3)\n",
    "knn_classifier.fit(X_train, y_train)\n",
    "y_pred = knn_classifier.predict(X_test)\n",
    "print(f'sklearn\\'s KNN Accuracy : {accuracy_score(y_test, y_pred):.2f}')"
   ]
  },
  {
   "cell_type": "code",
   "execution_count": 15,
   "metadata": {},
   "outputs": [
    {
     "name": "stdout",
     "output_type": "stream",
     "text": [
      "               precision    recall  f1-score   support\n",
      "\n",
      "Not Legendary       0.98      0.96      0.97       256\n",
      "    Legendary       0.62      0.75      0.68        24\n",
      "\n",
      "     accuracy                           0.94       280\n",
      "    macro avg       0.80      0.85      0.82       280\n",
      " weighted avg       0.95      0.94      0.94       280\n",
      "\n"
     ]
    }
   ],
   "source": [
    "print(classification_report(y_test, y_pred, target_names = ['Not Legendary', 'Legendary']))"
   ]
  },
  {
   "cell_type": "code",
   "execution_count": 12,
   "metadata": {},
   "outputs": [
    {
     "data": {
      "text/plain": [
       "array([[245,  11],\n",
       "       [  6,  18]])"
      ]
     },
     "execution_count": 12,
     "metadata": {},
     "output_type": "execute_result"
    }
   ],
   "source": [
    "confusion_matrix(y_test, y_pred)"
   ]
  },
  {
   "cell_type": "code",
   "execution_count": null,
   "metadata": {},
   "outputs": [],
   "source": []
  }
 ],
 "metadata": {
  "kernelspec": {
   "display_name": "Python 3",
   "language": "python",
   "name": "python3"
  },
  "language_info": {
   "codemirror_mode": {
    "name": "ipython",
    "version": 3
   },
   "file_extension": ".py",
   "mimetype": "text/x-python",
   "name": "python",
   "nbconvert_exporter": "python",
   "pygments_lexer": "ipython3",
   "version": "3.7.4"
  }
 },
 "nbformat": 4,
 "nbformat_minor": 2
}
