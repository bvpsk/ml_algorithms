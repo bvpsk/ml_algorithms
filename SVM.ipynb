{
 "cells": [
  {
   "cell_type": "code",
   "execution_count": 15,
   "metadata": {},
   "outputs": [],
   "source": [
    "# Import necessary libraries\n",
    "import pandas as pd\n",
    "import numpy as np\n",
    "%matplotlib inline\n",
    "import matplotlib.pyplot as plt\n",
    "from sklearn.svm import SVC\n",
    "from sklearn.model_selection import train_test_split\n",
    "from sklearn.metrics import classification_report, confusion_matrix"
   ]
  },
  {
   "cell_type": "code",
   "execution_count": 16,
   "metadata": {},
   "outputs": [],
   "source": [
    "# make a dataset\n",
    "csvs = ['QCM3.csv', 'QCM6.csv', 'QCM7.csv', 'QCM10.csv', 'QCM12.csv']\n",
    "path = \"../../AI/datasets/QCM Sensor Alcohol Dataset/\"\n",
    "Data = []\n",
    "\n",
    "for csv in csvs:\n",
    "    df = pd.read_csv(path + csv, delimiter=\";\")\n",
    "    vals = df.values\n",
    "    for row in vals:\n",
    "        data = [(row[0] + row[1]) / 2, (row[2] + row[3]) / 2, (row[4] + row[5]) / 2, (row[6] + row[7]) / 2, (row[8] + row[9]) / 2]\n",
    "        if row[10] == 1:\n",
    "            Data.append(data + [1])\n",
    "        if row[11] == 1:\n",
    "            Data.append(data + [0])\n",
    "df = pd.DataFrame(Data, columns = ['sensor 1', 'sensor 2', 'sensor 3', 'sensor 4', 'sensor 5', 'drunk or not'])"
   ]
  },
  {
   "cell_type": "code",
   "execution_count": 17,
   "metadata": {},
   "outputs": [],
   "source": [
    "# Extract X and y data points for different classes\n",
    "cls1 = df.values[df.values[:, -1] == 1]\n",
    "X1 = cls1[:, 1]\n",
    "y1 = cls1[:, 3]\n",
    "cls2 = df.values[df.values[:, -1] == 0]\n",
    "X2 = cls2[:, 1]\n",
    "y2 = cls2[:, 3]\n",
    "X1 = (X1 - X1.min()) / (X1.max() - X1.min())\n",
    "y1 = (y1 - y1.min()) / (y1.max() - y1.min())\n",
    "X2 = (X2 - X2.min()) / (X2.max() - X2.min())\n",
    "y2 = (y2 - y2.min()) / (y2.max() - y2.min())"
   ]
  },
  {
   "cell_type": "code",
   "execution_count": 18,
   "metadata": {},
   "outputs": [
    {
     "data": {
      "text/plain": [
       "<matplotlib.collections.PathCollection at 0x11d44d590>"
      ]
     },
     "execution_count": 18,
     "metadata": {},
     "output_type": "execute_result"
    },
    {
     "data": {
      "image/png": "[encoded data removed]",
      "text/plain": [
       "<Figure size 432x288 with 1 Axes>"
      ]
     },
     "metadata": {
      "needs_background": "light"
     },
     "output_type": "display_data"
    }
   ],
   "source": [
    "# plot the data\n",
    "plt.scatter(X1, y1, color = \"green\", marker='+')\n",
    "plt.scatter(X2, y2, color = 'red', marker = '.')"
   ]
  },
  {
   "cell_type": "code",
   "execution_count": 19,
   "metadata": {},
   "outputs": [],
   "source": [
    "# Combine data\n",
    "X = []\n",
    "y = []\n",
    "for (a, b) in zip(X1, y1):\n",
    "    X.append([a, b])\n",
    "    y.append(1)\n",
    "for (a, b) in zip(X2, y2):\n",
    "    X.append([a, b])\n",
    "    y.append(0)"
   ]
  },
  {
   "cell_type": "code",
   "execution_count": 20,
   "metadata": {},
   "outputs": [],
   "source": [
    "# split data for training and testing\n",
    "X_train, X_test, y_train, y_test = train_test_split(X, y, test_size=0.5)"
   ]
  },
  {
   "cell_type": "code",
   "execution_count": 21,
   "metadata": {},
   "outputs": [
    {
     "data": {
      "text/plain": [
       "0.44"
      ]
     },
     "execution_count": 21,
     "metadata": {},
     "output_type": "execute_result"
    }
   ],
   "source": [
    "# Create SVM classifier and check the accuracy\n",
    "model = SVC(kernel=\"linear\", C = 1)\n",
    "model.fit(X_train, y_train)\n",
    "model.score(X_test, y_test)"
   ]
  },
  {
   "cell_type": "code",
   "execution_count": 22,
   "metadata": {},
   "outputs": [
    {
     "data": {
      "image/png": "[encoded data removed]",
      "text/plain": [
       "<Figure size 432x288 with 1 Axes>"
      ]
     },
     "metadata": {
      "needs_background": "light"
     },
     "output_type": "display_data"
    }
   ],
   "source": [
    "# obtain slope and intercept of hyperplane\n",
    "Weights=model.coef_[0]\n",
    "Intercept=model.intercept_\n",
    "a = -Weights[0]/Weights[1]\n",
    "b = Intercept[0]/Weights[1]\n",
    "axes = plt.gca()\n",
    "x_vals = np.array(axes.get_xlim())\n",
    "y_vals = a * x_vals - b"
   ]
  },
  {
   "cell_type": "code",
   "execution_count": 23,
   "metadata": {},
   "outputs": [
    {
     "data": {
      "text/plain": [
       "[<matplotlib.lines.Line2D at 0x11d760d90>]"
      ]
     },
     "execution_count": 23,
     "metadata": {},
     "output_type": "execute_result"
    },
    {
     "data": {
      "image/png": "[encoded data removed]",
      "text/plain": [
       "<Figure size 432x288 with 1 Axes>"
      ]
     },
     "metadata": {
      "needs_background": "light"
     },
     "output_type": "display_data"
    }
   ],
   "source": [
    "# plot the solution\n",
    "plt.scatter(X1, y1, color = \"green\", marker='+')\n",
    "plt.scatter(X2, y2, color = 'red', marker = '.')\n",
    "plt.plot(x_vals, y_vals, '--')"
   ]
  },
  {
   "cell_type": "code",
   "execution_count": 24,
   "metadata": {},
   "outputs": [
    {
     "name": "stdout",
     "output_type": "stream",
     "text": [
      "              precision    recall  f1-score   support\n",
      "\n",
      "           0       0.44      1.00      0.61        11\n",
      "           1       0.00      0.00      0.00        14\n",
      "\n",
      "    accuracy                           0.44        25\n",
      "   macro avg       0.22      0.50      0.31        25\n",
      "weighted avg       0.19      0.44      0.27        25\n",
      "\n"
     ]
    },
    {
     "name": "stderr",
     "output_type": "stream",
     "text": [
      "/Users/kumar/clandestine/lib/python3.7/site-packages/sklearn/metrics/classification.py:1437: UndefinedMetricWarning: Precision and F-score are ill-defined and being set to 0.0 in labels with no predicted samples.\n",
      "  'precision', 'predicted', average, warn_for)\n"
     ]
    }
   ],
   "source": [
    "# Classification Report\n",
    "y_pred = model.predict(X_test)\n",
    "print(classification_report(y_test, y_pred))"
   ]
  },
  {
   "cell_type": "code",
   "execution_count": 25,
   "metadata": {},
   "outputs": [
    {
     "name": "stdout",
     "output_type": "stream",
     "text": [
      "[[11  0]\n",
      " [14  0]]\n"
     ]
    }
   ],
   "source": [
    "# Confusion Matrix\n",
    "print(confusion_matrix(y_test, y_pred))"
   ]
  },
  {
   "cell_type": "code",
   "execution_count": null,
   "metadata": {},
   "outputs": [],
   "source": []
  }
 ],
 "metadata": {
  "kernelspec": {
   "display_name": "Python 3",
   "language": "python",
   "name": "python3"
  },
  "language_info": {
   "codemirror_mode": {
    "name": "ipython",
    "version": 3
   },
   "file_extension": ".py",
   "mimetype": "text/x-python",
   "name": "python",
   "nbconvert_exporter": "python",
   "pygments_lexer": "ipython3",
   "version": "3.7.4"
  }
 },
 "nbformat": 4,
 "nbformat_minor": 2
}
